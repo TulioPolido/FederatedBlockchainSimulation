{
 "cells": [
  {
   "cell_type": "code",
   "execution_count": null,
   "metadata": {},
   "outputs": [],
   "source": [
    "pip install flwr tensorflow web3"
   ]
  },
  {
   "cell_type": "code",
   "execution_count": null,
   "metadata": {},
   "outputs": [],
   "source": [
    "# Instale a biblioteca web3 com: pip install web3\n",
    "from web3 import Web3\n",
    "\n",
    "import flwr as fl\n",
    "from typing import Dict, Tuple\n",
    "import tensorflow as tf\n",
    "from tensorflow.keras.models import Sequential\n",
    "from tensorflow.keras.layers import Dense, Flatten\n",
    "from tensorflow.keras.optimizers import Adam\n",
    "\n",
    "from solcx import compile_source, install_solc\n"
   ]
  },
  {
   "cell_type": "code",
   "execution_count": null,
   "metadata": {},
   "outputs": [],
   "source": [
    "# Conectar a um nó local de blockchain (ex: Ganache ou outro simulador)\n",
    "blockchain_url = \"http://127.0.0.1:7545\"  # Altere conforme necessário\n",
    "web3 = Web3(Web3.HTTPProvider(blockchain_url))"
   ]
  },
  {
   "cell_type": "code",
   "execution_count": null,
   "metadata": {},
   "outputs": [],
   "source": [
    "# Verificar a conexão com o nó\n",
    "if web3.is_connected():\n",
    "    print(\"Conexão com blockchain bem-sucedida\")\n",
    "else:\n",
    "    raise Exception(\"Erro ao conectar na blockchain\")"
   ]
  },
  {
   "cell_type": "code",
   "execution_count": null,
   "metadata": {},
   "outputs": [],
   "source": [
    "# Conta padrão e contrato fictício (simulado para registrar atualizações)\n",
    "account = web3.eth.accounts[0]\n",
    "web3.eth.default_account = account"
   ]
  },
  {
   "cell_type": "code",
   "execution_count": null,
   "metadata": {},
   "outputs": [],
   "source": [
    "# Código do contrato para registrar atualizações\n",
    "contract_code = \"\"\"\n",
    "pragma solidity ^0.8.0;\n",
    "\n",
    "contract FederatedUpdates {\n",
    "    struct Update {\n",
    "        address client;\n",
    "        uint256 round;\n",
    "        string dataHash;\n",
    "    }\n",
    "\n",
    "    Update[] public updates;\n",
    "\n",
    "    function recordUpdate(uint256 round, string memory dataHash) public {\n",
    "        updates.push(Update(msg.sender, round, dataHash));\n",
    "    }\n",
    "\n",
    "    function getUpdatesCount() public view returns (uint256) {\n",
    "        return updates.length;\n",
    "    }\n",
    "}\n",
    "\"\"\""
   ]
  },
  {
   "cell_type": "code",
   "execution_count": null,
   "metadata": {},
   "outputs": [],
   "source": [
    "# Compilar e implantar o contrato (usando o web3.py e solc combinados)\n",
    "install_solc(version=\"0.8.0\")\n",
    "\n",
    "compiled_contract = compile_source(contract_code)\n",
    "contract_interface = compiled_contract[\"<stdin>:FederatedUpdates\"]"
   ]
  },
  {
   "cell_type": "code",
   "execution_count": null,
   "metadata": {},
   "outputs": [],
   "source": [
    "# Implantar o contrato\n",
    "FederatedUpdates = web3.eth.contract(\n",
    "    abi=contract_interface[\"abi\"], bytecode=contract_interface[\"bin\"]\n",
    ")\n",
    "tx_hash = FederatedUpdates.constructor().transact()\n",
    "tx_receipt = web3.eth.wait_for_transaction_receipt(tx_hash)\n",
    "contract_address = tx_receipt.contractAddress"
   ]
  },
  {
   "cell_type": "code",
   "execution_count": null,
   "metadata": {},
   "outputs": [],
   "source": [
    "# Obter a instância do contrato\n",
    "contract = web3.eth.contract(\n",
    "    address=contract_address, abi=contract_interface[\"abi\"]\n",
    ")\n",
    "\n",
    "print(f\"Contrato implantado em: {contract_address}\")"
   ]
  },
  {
   "cell_type": "code",
   "execution_count": null,
   "metadata": {},
   "outputs": [],
   "source": [
    "def create_model():\n",
    "    model = Sequential([\n",
    "        Flatten(input_shape=(28, 28)),\n",
    "        Dense(128, activation='relu'),\n",
    "        Dense(10, activation='softmax')\n",
    "    ])\n",
    "    model.compile(optimizer=Adam(learning_rate=0.001),\n",
    "                  loss='sparse_categorical_crossentropy',\n",
    "                  metrics=['accuracy'])\n",
    "    return model"
   ]
  },
  {
   "cell_type": "code",
   "execution_count": null,
   "metadata": {},
   "outputs": [],
   "source": [
    "class FederatedClient(fl.client.NumPyClient):\n",
    "    def __init__(self, model, x_train, y_train, x_test, y_test, client_id):\n",
    "        self.model = model\n",
    "        self.x_train = x_train\n",
    "        self.y_train = y_train\n",
    "        self.x_test = x_test\n",
    "        self.y_test = y_test\n",
    "        self.client_id = client_id\n",
    "\n",
    "    def get_parameters(self):\n",
    "        return self.model.get_weights()\n",
    "\n",
    "    def fit(self, parameters, config):\n",
    "        self.model.set_weights(parameters)\n",
    "        self.model.fit(self.x_train, self.y_train, epochs=1, batch_size=32)\n",
    "\n",
    "        # Registrar atualização no blockchain\n",
    "        data_hash = web3.keccak(text=str(self.model.get_weights())).hex()\n",
    "        contract.functions.recordUpdate(config[\"round\"], data_hash).transact()\n",
    "        print(f\"Atualização registrada no blockchain: {data_hash}\")\n",
    "\n",
    "        return self.model.get_weights(), len(self.x_train), {}\n",
    "\n",
    "    def evaluate(self, parameters, config):\n",
    "        self.model.set_weights(parameters)\n",
    "        loss, accuracy = self.model.evaluate(self.x_test, self.y_test)\n",
    "        return loss, len(self.x_test), {\"accuracy\": accuracy}"
   ]
  },
  {
   "cell_type": "code",
   "execution_count": null,
   "metadata": {},
   "outputs": [],
   "source": [
    "def start_simulation(num_clients: int):\n",
    "    # Carregar o dataset MNIST\n",
    "    (x_train, y_train), (x_test, y_test) = tf.keras.datasets.mnist.load_data()\n",
    "    x_train, x_test = x_train / 255.0, x_test / 255.0\n",
    "\n",
    "    # Dividir os dados para os clientes\n",
    "    partition_size = len(x_train) // num_clients\n",
    "    clients = []\n",
    "    for i in range(num_clients):\n",
    "        start = i * partition_size\n",
    "        end = start + partition_size\n",
    "        clients.append(\n",
    "            FederatedClient(\n",
    "                create_model(),\n",
    "                x_train[start:end],\n",
    "                y_train[start:end],\n",
    "                x_test,\n",
    "                y_test,\n",
    "                client_id=i\n",
    "            )\n",
    "        )\n",
    "\n",
    "    # Estratégia de agregação do Flower\n",
    "    strategy = fl.server.strategy.FedAvg()\n",
    "\n",
    "    # Iniciar o servidor com os clientes simulados\n",
    "    fl.simulation.start_simulation(\n",
    "        client_fn=lambda cid: clients[int(cid)],\n",
    "        num_clients=num_clients,\n",
    "        client_resources={\"num_cpus\": 1},\n",
    "        config=fl.server.ServerConfig(num_rounds=5),\n",
    "        strategy=strategy,\n",
    "    )"
   ]
  },
  {
   "cell_type": "code",
   "execution_count": null,
   "metadata": {},
   "outputs": [],
   "source": [
    "# Iniciar a simulação\n",
    "start_simulation(num_clients=5)"
   ]
  }
 ],
 "metadata": {
  "language_info": {
   "name": "python"
  }
 },
 "nbformat": 4,
 "nbformat_minor": 2
}
